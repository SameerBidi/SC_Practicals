{
 "cells": [
  {
   "attachments": {},
   "cell_type": "markdown",
   "metadata": {},
   "source": [
    "### String matching using fuzzy logic\n",
    "\n",
    "Fuzzywuzzy Library provides fuzz API which is very useful in doing string matching for applications like NLP it provides us with variety of string matching functions that can be used in different scenarios\n",
    "1. <b>Ratio Function</b> finds out the similarity ratio between the two string using the Levenshtein distance formula.\n",
    "2. <b>Partial Ratio Function</b> is used to perform sub-string matching. This function is typically useful while matching people's name\n",
    "3. <b>Token Sort Ratio</b> function sorts the string alphabetically and then do matching on the alphabetically sorted versions of the string."
   ]
  },
  {
   "attachments": {},
   "cell_type": "markdown",
   "metadata": {},
   "source": [
    "### Ratio\n",
    "#### "
   ]
  },
  {
   "cell_type": "code",
   "execution_count": 2,
   "metadata": {},
   "outputs": [],
   "source": [
    "from fuzzywuzzy import fuzz, process"
   ]
  },
  {
   "cell_type": "code",
   "execution_count": 3,
   "metadata": {},
   "outputs": [
    {
     "name": "stdout",
     "output_type": "stream",
     "text": [
      "100\n",
      "82\n",
      "45\n"
     ]
    }
   ],
   "source": [
    "s1 = \"Hello World\"\n",
    "s2 = \"hello world\"\n",
    "s3 = \"world hello\"\n",
    "\n",
    "print(fuzz.ratio(s1.lower(), s2.lower()))\n",
    "print(fuzz.ratio(s1, s2))\n",
    "print(fuzz.ratio(s1.lower(), s3.lower()))"
   ]
  },
  {
   "cell_type": "code",
   "execution_count": 4,
   "metadata": {},
   "outputs": [
    {
     "name": "stdout",
     "output_type": "stream",
     "text": [
      "100\n"
     ]
    }
   ],
   "source": [
    "s1 = \"Hello, World!\"\n",
    "s2 = \"World\"\n",
    "\n",
    "print(fuzz.partial_ratio(s1, s2))"
   ]
  },
  {
   "cell_type": "code",
   "execution_count": 5,
   "metadata": {},
   "outputs": [
    {
     "name": "stdout",
     "output_type": "stream",
     "text": [
      "100\n"
     ]
    }
   ],
   "source": [
    "s1 = \"hello world\"\n",
    "s2 = \"world hello\"\n",
    "\n",
    "print(fuzz.token_sort_ratio(s1, s2))"
   ]
  },
  {
   "cell_type": "code",
   "execution_count": 9,
   "metadata": {},
   "outputs": [
    {
     "name": "stdout",
     "output_type": "stream",
     "text": [
      "100\n"
     ]
    }
   ],
   "source": [
    "s1 = \"hello world\"\n",
    "s2 = \"world hello world\"\n",
    "\n",
    "print(fuzz.token_set_ratio(s1, s2))"
   ]
  },
  {
   "cell_type": "code",
   "execution_count": 7,
   "metadata": {},
   "outputs": [
    {
     "name": "stdout",
     "output_type": "stream",
     "text": [
      "100\n"
     ]
    }
   ],
   "source": [
    "s1 = \"hello world!!!!\"\n",
    "s2 = \"hello world\"\n",
    "\n",
    "print(fuzz.WRatio(s1, s2))"
   ]
  },
  {
   "cell_type": "code",
   "execution_count": 8,
   "metadata": {},
   "outputs": [
    {
     "name": "stdout",
     "output_type": "stream",
     "text": [
      "[('artificial intelligence', 100), ('Artificial Intelligence', 100), ('a intelligence', 86), ('arts intelligence', 80)]\n",
      "('artificial intelligence', 100)\n",
      "[('artificial intelligence', 100), ('Artificial Intelligence', 100)]\n"
     ]
    }
   ],
   "source": [
    "query = \"artificial intelligence\"\n",
    "choices = [\n",
    "    \"artificial intelligence\", \n",
    "    \"Artificial Intelligence\", \n",
    "    \"arts intelligence\", \n",
    "    \"a intelligence\"\n",
    "]\n",
    "\n",
    "print(process.extract(query, choices))\n",
    "print(process.extractOne(query, choices))\n",
    "print(process.extractBests(query, choices, limit=2))"
   ]
  },
  {
   "cell_type": "code",
   "execution_count": null,
   "metadata": {},
   "outputs": [],
   "source": []
  }
 ],
 "metadata": {
  "kernelspec": {
   "display_name": ".venv",
   "language": "python",
   "name": "python3"
  },
  "language_info": {
   "codemirror_mode": {
    "name": "ipython",
    "version": 3
   },
   "file_extension": ".py",
   "mimetype": "text/x-python",
   "name": "python",
   "nbconvert_exporter": "python",
   "pygments_lexer": "ipython3",
   "version": "3.11.1"
  },
  "orig_nbformat": 4
 },
 "nbformat": 4,
 "nbformat_minor": 2
}
