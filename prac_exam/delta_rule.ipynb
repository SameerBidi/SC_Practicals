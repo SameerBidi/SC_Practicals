{
 "cells": [
  {
   "attachments": {},
   "cell_type": "markdown",
   "metadata": {},
   "source": [
    "### Delta Rule\n",
    "\n",
    "$$ wnew = wold + lr * (desired - actual) $$"
   ]
  },
  {
   "cell_type": "code",
   "execution_count": 1,
   "metadata": {},
   "outputs": [],
   "source": [
    "import numpy as np"
   ]
  },
  {
   "cell_type": "code",
   "execution_count": 15,
   "metadata": {},
   "outputs": [],
   "source": [
    "x = np.array([1.0, 1.0, 1.0])\n",
    "weights = np.array([1.0, 1.0, 1.0])\n",
    "desired = np.array([3.0, 9.0, 1.5])\n",
    "\n",
    "actual = x * weights\n",
    "\n",
    "learning_rate = 1"
   ]
  },
  {
   "cell_type": "code",
   "execution_count": 19,
   "metadata": {},
   "outputs": [],
   "source": [
    "while True:\n",
    "    if(np.array_equal(actual, desired)):\n",
    "        break\n",
    "    else:\n",
    "        for i in range(0, 3):\n",
    "            weights[i] = weights[i] + (learning_rate * (desired[i] - actual[i]))\n",
    "            actual = x * weights"
   ]
  },
  {
   "cell_type": "code",
   "execution_count": 20,
   "metadata": {},
   "outputs": [
    {
     "name": "stdout",
     "output_type": "stream",
     "text": [
      "Final Output:\n",
      "Corrected Weights: [3.  9.  1.5]\n",
      "Actual Output: [3.  9.  1.5]\n",
      "Desired Output: [3.  9.  1.5]\n"
     ]
    }
   ],
   "source": [
    "print(\"Final Output:\")\n",
    "print(\"Corrected Weights:\", weights)\n",
    "print(\"Actual Output:\", actual)\n",
    "print(\"Desired Output:\", desired)"
   ]
  },
  {
   "cell_type": "code",
   "execution_count": null,
   "metadata": {},
   "outputs": [],
   "source": []
  }
 ],
 "metadata": {
  "kernelspec": {
   "display_name": ".venv",
   "language": "python",
   "name": "python3"
  },
  "language_info": {
   "codemirror_mode": {
    "name": "ipython",
    "version": 3
   },
   "file_extension": ".py",
   "mimetype": "text/x-python",
   "name": "python",
   "nbconvert_exporter": "python",
   "pygments_lexer": "ipython3",
   "version": "3.11.1"
  },
  "orig_nbformat": 4
 },
 "nbformat": 4,
 "nbformat_minor": 2
}
