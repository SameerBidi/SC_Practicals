{
 "cells": [
  {
   "attachments": {},
   "cell_type": "markdown",
   "metadata": {},
   "source": [
    "### Genetic Algorithm"
   ]
  },
  {
   "cell_type": "code",
   "execution_count": 1,
   "metadata": {},
   "outputs": [],
   "source": [
    "import pygad\n",
    "import numpy as np"
   ]
  },
  {
   "cell_type": "code",
   "execution_count": 2,
   "metadata": {},
   "outputs": [],
   "source": [
    "X = [4, -2, 3.5, 5, -11, -4.7]\n",
    "\n",
    "desired_op = 44"
   ]
  },
  {
   "cell_type": "code",
   "execution_count": 4,
   "metadata": {},
   "outputs": [],
   "source": [
    "def fitness_func(ga_inst, sol, sol_idx):\n",
    "    op = np.sum(sol * X)\n",
    "    fitness = 1.0 / np.abs(op - desired_op)\n",
    "    return fitness"
   ]
  },
  {
   "cell_type": "code",
   "execution_count": 5,
   "metadata": {},
   "outputs": [],
   "source": [
    "ga_inst = pygad.GA(\n",
    "    fitness_func=fitness_func,\n",
    "    num_generations=50,\n",
    "    num_parents_mating=4,\n",
    "    sol_per_pop=8,\n",
    "    num_genes=len(X),\n",
    "    init_range_low=-2,\n",
    "    init_range_high=4,\n",
    "    parent_selection_type=\"sss\",\n",
    "    keep_parents=1,\n",
    "    crossover_type=\"single_point\",\n",
    "    mutation_type=\"random\",\n",
    "    mutation_percent_genes=20\n",
    ")\n",
    "\n",
    "ga_inst.run()"
   ]
  },
  {
   "cell_type": "code",
   "execution_count": 6,
   "metadata": {},
   "outputs": [],
   "source": [
    "sol, sol_fitness, sol_idx = ga_inst.best_solution()"
   ]
  },
  {
   "cell_type": "code",
   "execution_count": 7,
   "metadata": {},
   "outputs": [
    {
     "name": "stdout",
     "output_type": "stream",
     "text": [
      "Solution: [ 3.52235419  0.36810502  3.69178541  2.81927869 -1.0797886   1.75202468]\n",
      "Fitness: 71.38915708088902\n"
     ]
    }
   ],
   "source": [
    "print(f\"Solution: {sol}\")\n",
    "print(f\"Fitness: {sol_fitness}\")"
   ]
  },
  {
   "cell_type": "code",
   "execution_count": null,
   "metadata": {},
   "outputs": [],
   "source": []
  }
 ],
 "metadata": {
  "kernelspec": {
   "display_name": ".venv",
   "language": "python",
   "name": "python3"
  },
  "language_info": {
   "codemirror_mode": {
    "name": "ipython",
    "version": 3
   },
   "file_extension": ".py",
   "mimetype": "text/x-python",
   "name": "python",
   "nbconvert_exporter": "python",
   "pygments_lexer": "ipython3",
   "version": "3.11.1"
  },
  "orig_nbformat": 4
 },
 "nbformat": 4,
 "nbformat_minor": 2
}
