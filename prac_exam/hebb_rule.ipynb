{
 "cells": [
  {
   "attachments": {},
   "cell_type": "markdown",
   "metadata": {},
   "source": [
    "### Hebb Rule\n",
    "\n",
    "#### Weights update formula\n",
    "$$ w_t(new) = w_t(old) + x_i * y $$\n",
    "\n",
    "#### Bias Update\n",
    "$$ b(new) = b(old)+y $$"
   ]
  },
  {
   "cell_type": "code",
   "execution_count": 34,
   "metadata": {},
   "outputs": [],
   "source": [
    "import numpy as np\n",
    "\n",
    "x = np.array([1, 1, 1, -1, -1, 1, -1, 1, 1, -1])\n",
    "y= np.array([1, -1])\n",
    "\n",
    "bias = 0\n",
    "\n",
    "wold = np.zeros((10,), dtype=int)\n",
    "wnew = np.zeros((10,), dtype=int)"
   ]
  },
  {
   "cell_type": "code",
   "execution_count": 36,
   "metadata": {},
   "outputs": [
    {
     "name": "stdout",
     "output_type": "stream",
     "text": [
      "First input with target = 1\n",
      "New weights: [0 0 0 0 0 0 0 0 0 0]\n",
      "Bias value: 0\n"
     ]
    }
   ],
   "source": [
    "print('First input with target = 1')\n",
    "for i in range(0,10):\n",
    "    wold[i] = wold[i] + x[i] * y[0]\n",
    "wnew = wold    \n",
    "bias = bias + y[0]\n",
    "\n",
    "print('New weights:', wnew)\n",
    "print('Bias value:', bias)"
   ]
  },
  {
   "cell_type": "code",
   "execution_count": 35,
   "metadata": {},
   "outputs": [
    {
     "name": "stdout",
     "output_type": "stream",
     "text": [
      "First input with target = -1\n",
      "New weights: [-1 -1 -1  1  1 -1  1 -1 -1  1]\n",
      "Bias value: -1\n"
     ]
    }
   ],
   "source": [
    "print('First input with target = -1')\n",
    "for i in range(0,10):\n",
    "    wold[i] = wold[i] + x[i] * y[1]\n",
    "wnew = wold    \n",
    "bias = bias + y[1]\n",
    "\n",
    "print('New weights:', wnew)\n",
    "print('Bias value:', bias)"
   ]
  },
  {
   "cell_type": "code",
   "execution_count": null,
   "metadata": {},
   "outputs": [],
   "source": []
  },
  {
   "cell_type": "code",
   "execution_count": null,
   "metadata": {},
   "outputs": [],
   "source": []
  }
 ],
 "metadata": {
  "kernelspec": {
   "display_name": ".venv",
   "language": "python",
   "name": "python3"
  },
  "language_info": {
   "codemirror_mode": {
    "name": "ipython",
    "version": 3
   },
   "file_extension": ".py",
   "mimetype": "text/x-python",
   "name": "python",
   "nbconvert_exporter": "python",
   "pygments_lexer": "ipython3",
   "version": "3.11.1"
  },
  "orig_nbformat": 4
 },
 "nbformat": 4,
 "nbformat_minor": 2
}
