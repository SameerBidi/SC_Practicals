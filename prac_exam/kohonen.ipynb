{
 "cells": [
  {
   "attachments": {},
   "cell_type": "markdown",
   "metadata": {},
   "source": [
    "### Kohonen"
   ]
  },
  {
   "cell_type": "code",
   "execution_count": 16,
   "metadata": {},
   "outputs": [],
   "source": [
    "import math\n",
    "\n",
    "def winner(weights, sample):\n",
    "    d0 = 0\n",
    "    d1 = 0\n",
    "    for i in range(len(sample)):\n",
    "        d0 = d0 + math.pow((sample[i] - weights[0][i]), 2)\n",
    "        d1 = d1 + math.pow((sample[i] - weights[1][i]), 2)\n",
    "    if d0 > d1:\n",
    "        return 1\n",
    "    else:\n",
    "    \treturn 0\n",
    "\n",
    "def update_w(weights, sample, winner_node, learning_rate):\n",
    "    for i in range(len(weights)):\n",
    "        weights[winner_node][i] = weights[winner_node][i] + learning_rate * (sample[i] - weights[winner_node][i])\n",
    "    return weights"
   ]
  },
  {
   "cell_type": "code",
   "execution_count": 17,
   "metadata": {},
   "outputs": [],
   "source": [
    "# Training Examples\n",
    "x = [[1, 1, 0, 0], [0, 0, 0, 1], [1, 0, 0, 0], [0, 0, 1, 1]]\n",
    "\n",
    "n_samples, n_features = len(x), len(x[0])\n",
    "\n",
    "#Initial Weights\n",
    "weights = [[0.2, 0.6, 0.5, 0.9], [0.8, 0.4, 0.7, 0.3]]"
   ]
  },
  {
   "cell_type": "code",
   "execution_count": 18,
   "metadata": {},
   "outputs": [
    {
     "name": "stdout",
     "output_type": "stream",
     "text": [
      "The sample S belongs to cluster 1\n",
      "Trained weights are  [[0.003125, 0.009375, 0.5, 0.9], [0.996875, 0.334375, 0.7, 0.3]]\n"
     ]
    }
   ],
   "source": [
    "epochs = 3\n",
    "learning_rate = 0.5\n",
    "\n",
    "for i in range(epochs):\n",
    "  for j in range(n_samples):\n",
    "    sample = x[j]\n",
    "    winner_node = winner(weights, sample)\n",
    "    weights = update_w(weights, sample, winner_node, learning_rate)\n",
    "\n",
    "S = [1, 0, 0, 0]\n",
    "print(\"The sample S belongs to cluster\", winner(weights, S))\n",
    "print(\"Trained weights are \", weights)"
   ]
  },
  {
   "cell_type": "code",
   "execution_count": null,
   "metadata": {},
   "outputs": [],
   "source": []
  }
 ],
 "metadata": {
  "kernelspec": {
   "display_name": ".venv",
   "language": "python",
   "name": "python3"
  },
  "language_info": {
   "codemirror_mode": {
    "name": "ipython",
    "version": 3
   },
   "file_extension": ".py",
   "mimetype": "text/x-python",
   "name": "python",
   "nbconvert_exporter": "python",
   "pygments_lexer": "ipython3",
   "version": "3.11.1"
  },
  "orig_nbformat": 4
 },
 "nbformat": 4,
 "nbformat_minor": 2
}
